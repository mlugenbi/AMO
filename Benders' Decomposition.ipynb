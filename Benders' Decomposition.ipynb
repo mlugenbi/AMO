{
 "cells": [
  {
   "cell_type": "markdown",
   "id": "a5e55f10-2690-46ce-af1f-eb6e397617b3",
   "metadata": {},
   "source": [
    "# Benders' Decomposition\n"
   ]
  },
  {
   "cell_type": "markdown",
   "id": "ca2f2fff-ac66-4278-94cd-c61162aaae0d",
   "metadata": {},
   "source": [
    "Task: Solve the Computational Example 3.1 from the textbook \"Decomposition Techniques in Mathematical Programming\" using Benders' decomposition."
   ]
  },
  {
   "cell_type": "code",
   "execution_count": 1,
   "id": "eb9acbd6-fabb-4a90-90be-216d6c0642fa",
   "metadata": {},
   "outputs": [],
   "source": [
    "using JuMP\n",
    "using GLPK"
   ]
  },
  {
   "cell_type": "code",
   "execution_count": 2,
   "id": "022c11e5-a2da-465a-b285-4f79c3a8c03f",
   "metadata": {},
   "outputs": [
    {
     "data": {
      "text/plain": [
       "-25"
      ]
     },
     "execution_count": 2,
     "metadata": {},
     "output_type": "execute_result"
    }
   ],
   "source": [
    "# Define the problem data\n",
    "c1 = -1/4  # Coefficients for the x variable in the objective function\n",
    "c2 = -1    # Coefficients for the y variable in the subproblem\n",
    "α_down = -25 # Initial constraint for α"
   ]
  },
  {
   "cell_type": "code",
   "execution_count": 3,
   "id": "06577571-e2da-4c31-b927-9012443da531",
   "metadata": {},
   "outputs": [
    {
     "data": {
      "text/latex": [
       "$$ \\begin{aligned}\n",
       "\\min\\quad & -y - 0.25 x\\\\\n",
       "\\text{Subject to} \\quad & -x + y \\leq 5\\\\\n",
       " & -0.5 x + y \\leq 7.5\\\\\n",
       " & 0.5 x + y \\leq 17.5\\\\\n",
       " & x - y \\leq 10\\\\\n",
       " & x \\geq 0\\\\\n",
       " & y \\geq 0\\\\\n",
       " & x \\leq 16\\\\\n",
       "\\end{aligned} $$"
      ]
     },
     "metadata": {},
     "output_type": "display_data"
    }
   ],
   "source": [
    "comp_example = Model()\n",
    "@variable(comp_example, 0 <= x <= 16)\n",
    "@variable(comp_example, y >= 0)\n",
    "@constraint(comp_example, y - x <= 5)\n",
    "@constraint(comp_example, y - 0.5 * x <= 15/2)\n",
    "@constraint(comp_example, y + 0.5 * x <= 35/2)\n",
    "@constraint(comp_example, -y + x <= 10)\n",
    "@objective(comp_example, Min, c2 * y + c1 * x )\n",
    "\n",
    "print(comp_example)"
   ]
  },
  {
   "cell_type": "markdown",
   "id": "3782a9b5-c568-4b45-9faf-889ff8adaafe",
   "metadata": {},
   "source": [
    "Here, we can see the example from the textbook."
   ]
  },
  {
   "cell_type": "markdown",
   "id": "c770c17c-b96e-4e05-96f3-6b095fc74573",
   "metadata": {},
   "source": [
    "## Model Definition"
   ]
  },
  {
   "cell_type": "code",
   "execution_count": 4,
   "id": "c3ed5ad2-d777-41cf-98b4-3224f1966034",
   "metadata": {},
   "outputs": [
    {
     "data": {
      "text/plain": [
       "A JuMP Model\n",
       "Feasibility problem with:\n",
       "Variables: 0\n",
       "Model mode: AUTOMATIC\n",
       "CachingOptimizer state: EMPTY_OPTIMIZER\n",
       "Solver name: GLPK"
      ]
     },
     "execution_count": 4,
     "metadata": {},
     "output_type": "execute_result"
    }
   ],
   "source": [
    "master_model = Model(GLPK.Optimizer)"
   ]
  },
  {
   "cell_type": "code",
   "execution_count": 5,
   "id": "dea35421-9aa4-4f33-8249-25f47516cf32",
   "metadata": {
    "scrolled": true
   },
   "outputs": [
    {
     "data": {
      "text/latex": [
       "$$ \\begin{aligned}\n",
       "\\min\\quad & -0.25 x + α\\\\\n",
       "\\text{Subject to} \\quad & x \\geq 0\\\\\n",
       " & α \\geq -25\\\\\n",
       " & x \\leq 16\\\\\n",
       "\\end{aligned} $$"
      ]
     },
     "metadata": {},
     "output_type": "display_data"
    }
   ],
   "source": [
    "# Master problem\n",
    "@variable(master_model, 0 <= x <= 16)\n",
    "@variable(master_model, α >= α_down)\n",
    "@objective(master_model, Min, c1 * x + α)\n",
    "\n",
    "print(master_model)"
   ]
  },
  {
   "cell_type": "code",
   "execution_count": 6,
   "id": "5ec95dff-acb7-4458-bcf4-5325cab73ebe",
   "metadata": {},
   "outputs": [
    {
     "data": {
      "text/plain": [
       "solve_subproblem (generic function with 1 method)"
      ]
     },
     "execution_count": 6,
     "metadata": {},
     "output_type": "execute_result"
    }
   ],
   "source": [
    "# Defines and solves subproblem using updated x value\n",
    "function solve_subproblem(x_val)\n",
    "    println(\"Value of x: $x_val\")\n",
    "    \n",
    "    sub_model = Model(GLPK.Optimizer)\n",
    "    @variable(sub_model, y >= 0)\n",
    "    \n",
    "    # Define constraints \n",
    "    @constraint(sub_model, con1, y - x_val <= 5)\n",
    "    @constraint(sub_model, con2, y - 0.5 * x_val <= 15/2)\n",
    "    @constraint(sub_model, con3, y + 0.5 * x_val <= 35/2)\n",
    "    @constraint(sub_model, con4, -y + x_val <= 10)\n",
    "    \n",
    "    # Define the objective function\n",
    "    @objective(sub_model, Min, c2 * y)\n",
    "    println(\"Subproblem:\")\n",
    "    print(sub_model)\n",
    "    optimize!(sub_model)\n",
    "    \n",
    "    # Ensure that the subproblem was solved to optimality\n",
    "    if termination_status(sub_model) != MOI.OPTIMAL\n",
    "        error(\"Subproblem did not solve optimally.\")\n",
    "    end\n",
    "    \n",
    "    # Retrieve the optimal value and the dual values\n",
    "    obj_value = objective_value(sub_model)\n",
    "    duals = [dual(con1), dual(con2), dual(con3), dual(con4)]\n",
    "    y_value = value(y)\n",
    "    \n",
    "    return (obj = obj_value, y = y_value, λ = duals)\n",
    "end\n"
   ]
  },
  {
   "cell_type": "markdown",
   "id": "a346913b-d033-4469-a5a7-95de972319a9",
   "metadata": {},
   "source": [
    "## Benders' Loop"
   ]
  },
  {
   "cell_type": "code",
   "execution_count": 7,
   "id": "e14fcb04-dddf-4298-920a-b052dc929e14",
   "metadata": {
    "scrolled": true
   },
   "outputs": [
    {
     "data": {
      "text/plain": [
       "1.0e-20"
      ]
     },
     "execution_count": 7,
     "metadata": {},
     "output_type": "execute_result"
    }
   ],
   "source": [
    "# Optimization loop\n",
    "max_iterations = 20\n",
    "ε = 1e-20\n"
   ]
  },
  {
   "cell_type": "code",
   "execution_count": 8,
   "id": "dec2c66a-583c-4628-8231-57af7b0c7deb",
   "metadata": {},
   "outputs": [
    {
     "name": "stdout",
     "output_type": "stream",
     "text": [
      "Value of x: 16.0\n",
      "Subproblem:\n"
     ]
    },
    {
     "data": {
      "text/latex": [
       "$$ \\begin{aligned}\n",
       "\\min\\quad & -y\\\\\n",
       "\\text{Subject to} \\quad & y \\leq 21\\\\\n",
       " & y \\leq 15.5\\\\\n",
       " & y \\leq 9.5\\\\\n",
       " & -y \\leq -6\\\\\n",
       " & y \\geq 0\\\\\n",
       "\\end{aligned} $$"
      ]
     },
     "metadata": {},
     "output_type": "display_data"
    },
    {
     "name": "stdout",
     "output_type": "stream",
     "text": [
      "Subproblem objective at iteration 1: -9.5\n",
      "Dual variables at iteration 1: [0.0, 0.0, -1.0, 0.0]\n",
      "Iteration 1: Lower Bound = -29.0, Upper Bound = -13.5, Gap = 15.5\n",
      "Master Problem:\n"
     ]
    },
    {
     "data": {
      "text/latex": [
       "$$ \\begin{aligned}\n",
       "\\min\\quad & -0.25 x + α\\\\\n",
       "\\text{Subject to} \\quad & -0.5 x + α \\geq -17.5\\\\\n",
       " & x \\geq 0\\\\\n",
       " & α \\geq -25\\\\\n",
       " & x \\leq 16\\\\\n",
       "\\end{aligned} $$"
      ]
     },
     "metadata": {},
     "output_type": "display_data"
    },
    {
     "name": "stdout",
     "output_type": "stream",
     "text": [
      "Value of x: 0.0\n",
      "Subproblem:\n"
     ]
    },
    {
     "data": {
      "text/latex": [
       "$$ \\begin{aligned}\n",
       "\\min\\quad & -y\\\\\n",
       "\\text{Subject to} \\quad & y \\leq 5\\\\\n",
       " & y \\leq 7.5\\\\\n",
       " & y \\leq 17.5\\\\\n",
       " & -y \\leq 10\\\\\n",
       " & y \\geq 0\\\\\n",
       "\\end{aligned} $$"
      ]
     },
     "metadata": {},
     "output_type": "display_data"
    },
    {
     "name": "stdout",
     "output_type": "stream",
     "text": [
      "Subproblem objective at iteration 2: -5.0\n",
      "Dual variables at iteration 2: [-1.0, 0.0, 0.0, 0.0]\n",
      "Iteration 2: Lower Bound = -17.5, Upper Bound = -5.0, Gap = 12.5\n",
      "Master Problem:\n"
     ]
    },
    {
     "data": {
      "text/latex": [
       "$$ \\begin{aligned}\n",
       "\\min\\quad & -0.25 x + α\\\\\n",
       "\\text{Subject to} \\quad & -0.5 x + α \\geq -17.5\\\\\n",
       " & x + α \\geq -5\\\\\n",
       " & x \\geq 0\\\\\n",
       " & α \\geq -25\\\\\n",
       " & x \\leq 16\\\\\n",
       "\\end{aligned} $$"
      ]
     },
     "metadata": {},
     "output_type": "display_data"
    },
    {
     "name": "stdout",
     "output_type": "stream",
     "text": [
      "Value of x: 8.333333333333334\n",
      "Subproblem:\n"
     ]
    },
    {
     "data": {
      "text/latex": [
       "$$ \\begin{aligned}\n",
       "\\min\\quad & -y\\\\\n",
       "\\text{Subject to} \\quad & y \\leq 13.333333333333334\\\\\n",
       " & y \\leq 11.666666666666668\\\\\n",
       " & y \\leq 13.333333333333332\\\\\n",
       " & -y \\leq 1.666666666666666\\\\\n",
       " & y \\geq 0\\\\\n",
       "\\end{aligned} $$"
      ]
     },
     "metadata": {},
     "output_type": "display_data"
    },
    {
     "name": "stdout",
     "output_type": "stream",
     "text": [
      "Subproblem objective at iteration 3: -11.666666666666668\n",
      "Dual variables at iteration 3: [0.0, -1.0, 0.0, 0.0]\n",
      "Iteration 3: Lower Bound = -15.416666666666666, Upper Bound = -13.750000000000002, Gap = 1.6666666666666643\n",
      "Master Problem:\n"
     ]
    },
    {
     "data": {
      "text/latex": [
       "$$ \\begin{aligned}\n",
       "\\min\\quad & -0.25 x + α\\\\\n",
       "\\text{Subject to} \\quad & -0.5 x + α \\geq -17.5\\\\\n",
       " & x + α \\geq -5\\\\\n",
       " & 0.5 x + α \\geq -7.5\\\\\n",
       " & x \\geq 0\\\\\n",
       " & α \\geq -25\\\\\n",
       " & x \\leq 16\\\\\n",
       "\\end{aligned} $$"
      ]
     },
     "metadata": {},
     "output_type": "display_data"
    },
    {
     "name": "stdout",
     "output_type": "stream",
     "text": [
      "Value of x: 9.999999999999998\n",
      "Subproblem:\n"
     ]
    },
    {
     "data": {
      "text/latex": [
       "$$ \\begin{aligned}\n",
       "\\min\\quad & -y\\\\\n",
       "\\text{Subject to} \\quad & y \\leq 14.999999999999998\\\\\n",
       " & y \\leq 12.5\\\\\n",
       " & y \\leq 12.5\\\\\n",
       " & -y \\leq 1.7763568394002505e-15\\\\\n",
       " & y \\geq 0\\\\\n",
       "\\end{aligned} $$"
      ]
     },
     "metadata": {},
     "output_type": "display_data"
    },
    {
     "name": "stdout",
     "output_type": "stream",
     "text": [
      "Subproblem objective at iteration 4: -12.5\n",
      "Dual variables at iteration 4: [0.0, -1.0, 0.0, 0.0]\n",
      "Iteration 4: Lower Bound = -14.999999999999998, Upper Bound = -15.0, Gap = -1.7763568394002505e-15\n",
      "Terminating with the optimal solution\n",
      "Optimal x: 9.999999999999998\n",
      "Optimal α: -12.499999999999998\n",
      "Optimal y: 12.5\n"
     ]
    }
   ],
   "source": [
    "# Benders' decomposition loop\n",
    "y_val = 0\n",
    "for k in 1:max_iterations\n",
    "    optimize!(master_model)\n",
    "    \n",
    "    if termination_status(master_model) != MOI.OPTIMAL\n",
    "        error(\"Master problem did not solve optimally at iteration $k\")\n",
    "    end\n",
    "\n",
    "    lower_bound = objective_value(master_model)\n",
    "    x_val = value(x)  # Update x value\n",
    "    subproblem_solution = solve_subproblem(x_val)  # Solve subproblem using new x value\n",
    "    println(\"Subproblem objective at iteration $k: \", subproblem_solution.obj)\n",
    "    println(\"Dual variables at iteration $k: \", subproblem_solution.λ)\n",
    "    y_val = subproblem_solution.y\n",
    "\n",
    "    upper_bound = c1 * x_val + subproblem_solution.obj\n",
    "    gap = upper_bound - lower_bound\n",
    "    println(\"Iteration $k: Lower Bound = $lower_bound, Upper Bound = $upper_bound, Gap = $gap\")\n",
    "\n",
    "    # Check for convergence\n",
    "    if gap < ε\n",
    "        println(\"Terminating with the optimal solution\")\n",
    "        break\n",
    "    end\n",
    "\n",
    "\n",
    "    # Add Benders' cut to master problem\n",
    "    @constraint(master_model, α >= subproblem_solution.λ[1] * (5 + x) +\n",
    "                  subproblem_solution.λ[2] * (15/2 + 1/2 * x) +\n",
    "                  subproblem_solution.λ[3] * (35/2 - 1/2 * x) +\n",
    "                  subproblem_solution.λ[4] * (10 - x))\n",
    "    println(\"Master Problem:\")\n",
    "    print(master_model)\n",
    "end\n",
    "\n",
    "# Output optimal values\n",
    "println(\"Optimal x: \", value(x))\n",
    "println(\"Optimal α: \", value(α))\n",
    "println(\"Optimal y: \", y_val)"
   ]
  },
  {
   "cell_type": "markdown",
   "id": "09cbf80f-f8e4-4d75-8e29-98f1831d405b",
   "metadata": {},
   "source": [
    "We can see that the optimal values for x, α, and y are equal to those from the textbook, when rounded correctly. I am assuming that the small rounding error stems from the solver."
   ]
  }
 ],
 "metadata": {
  "kernelspec": {
   "display_name": "Julia 1.9.4",
   "language": "julia",
   "name": "julia-1.9"
  },
  "language_info": {
   "file_extension": ".jl",
   "mimetype": "application/julia",
   "name": "julia",
   "version": "1.9.4"
  }
 },
 "nbformat": 4,
 "nbformat_minor": 5
}
